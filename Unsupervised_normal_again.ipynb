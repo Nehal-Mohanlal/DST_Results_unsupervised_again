{
 "cells": [
  {
   "cell_type": "markdown",
   "id": "6b72b589",
   "metadata": {},
   "source": [
    "# Load Dataset "
   ]
  },
  {
   "cell_type": "code",
   "execution_count": 2,
   "id": "8c356a3e",
   "metadata": {},
   "outputs": [],
   "source": [
    "from sklearn.ensemble import IsolationForest\n",
    "from sklearn.neighbors import LocalOutlierFactor\n",
    "from sklearn.model_selection import train_test_split,GridSearchCV\n",
    "from sklearn.svm import OneClassSVM\n",
    "from sklearn.metrics import accuracy_score, confusion_matrix, precision_score, recall_score, classification_report, f1_score\n",
    "from sklearn.preprocessing import StandardScaler\n",
    "import pandas as pd\n",
    "import numpy as np \n"
   ]
  },
  {
   "cell_type": "code",
   "execution_count": 3,
   "id": "096cffc3",
   "metadata": {},
   "outputs": [],
   "source": [
    "dataset = pd.read_csv(\"Malware_Dataset.csv\")"
   ]
  },
  {
   "cell_type": "code",
   "execution_count": 4,
   "id": "82098212",
   "metadata": {},
   "outputs": [
    {
     "data": {
      "text/html": [
       "<div>\n",
       "<style scoped>\n",
       "    .dataframe tbody tr th:only-of-type {\n",
       "        vertical-align: middle;\n",
       "    }\n",
       "\n",
       "    .dataframe tbody tr th {\n",
       "        vertical-align: top;\n",
       "    }\n",
       "\n",
       "    .dataframe thead th {\n",
       "        text-align: right;\n",
       "    }\n",
       "</style>\n",
       "<table border=\"1\" class=\"dataframe\">\n",
       "  <thead>\n",
       "    <tr style=\"text-align: right;\">\n",
       "      <th></th>\n",
       "      <th>Category</th>\n",
       "      <th>pslist.nproc</th>\n",
       "      <th>pslist.nppid</th>\n",
       "      <th>pslist.avg_threads</th>\n",
       "      <th>pslist.nprocs64bit</th>\n",
       "      <th>pslist.avg_handlers</th>\n",
       "      <th>dlllist.ndlls</th>\n",
       "      <th>dlllist.avg_dlls_per_proc</th>\n",
       "      <th>handles.nhandles</th>\n",
       "      <th>handles.avg_handles_per_proc</th>\n",
       "      <th>...</th>\n",
       "      <th>svcscan.kernel_drivers</th>\n",
       "      <th>svcscan.fs_drivers</th>\n",
       "      <th>svcscan.process_services</th>\n",
       "      <th>svcscan.shared_process_services</th>\n",
       "      <th>svcscan.interactive_process_services</th>\n",
       "      <th>svcscan.nactive</th>\n",
       "      <th>callbacks.ncallbacks</th>\n",
       "      <th>callbacks.nanonymous</th>\n",
       "      <th>callbacks.ngeneric</th>\n",
       "      <th>Class</th>\n",
       "    </tr>\n",
       "  </thead>\n",
       "  <tbody>\n",
       "    <tr>\n",
       "      <th>0</th>\n",
       "      <td>Benign</td>\n",
       "      <td>45</td>\n",
       "      <td>17</td>\n",
       "      <td>10.555556</td>\n",
       "      <td>0</td>\n",
       "      <td>202.844444</td>\n",
       "      <td>1694</td>\n",
       "      <td>38.500000</td>\n",
       "      <td>9129</td>\n",
       "      <td>212.302326</td>\n",
       "      <td>...</td>\n",
       "      <td>221</td>\n",
       "      <td>26</td>\n",
       "      <td>24</td>\n",
       "      <td>116</td>\n",
       "      <td>0</td>\n",
       "      <td>121</td>\n",
       "      <td>87</td>\n",
       "      <td>0</td>\n",
       "      <td>8</td>\n",
       "      <td>Benign</td>\n",
       "    </tr>\n",
       "    <tr>\n",
       "      <th>1</th>\n",
       "      <td>Benign</td>\n",
       "      <td>47</td>\n",
       "      <td>19</td>\n",
       "      <td>11.531915</td>\n",
       "      <td>0</td>\n",
       "      <td>242.234043</td>\n",
       "      <td>2074</td>\n",
       "      <td>44.127660</td>\n",
       "      <td>11385</td>\n",
       "      <td>242.234043</td>\n",
       "      <td>...</td>\n",
       "      <td>222</td>\n",
       "      <td>26</td>\n",
       "      <td>24</td>\n",
       "      <td>118</td>\n",
       "      <td>0</td>\n",
       "      <td>122</td>\n",
       "      <td>87</td>\n",
       "      <td>0</td>\n",
       "      <td>8</td>\n",
       "      <td>Benign</td>\n",
       "    </tr>\n",
       "    <tr>\n",
       "      <th>2</th>\n",
       "      <td>Benign</td>\n",
       "      <td>40</td>\n",
       "      <td>14</td>\n",
       "      <td>14.725000</td>\n",
       "      <td>0</td>\n",
       "      <td>288.225000</td>\n",
       "      <td>1932</td>\n",
       "      <td>48.300000</td>\n",
       "      <td>11529</td>\n",
       "      <td>288.225000</td>\n",
       "      <td>...</td>\n",
       "      <td>222</td>\n",
       "      <td>26</td>\n",
       "      <td>27</td>\n",
       "      <td>118</td>\n",
       "      <td>0</td>\n",
       "      <td>120</td>\n",
       "      <td>88</td>\n",
       "      <td>0</td>\n",
       "      <td>8</td>\n",
       "      <td>Benign</td>\n",
       "    </tr>\n",
       "    <tr>\n",
       "      <th>3</th>\n",
       "      <td>Benign</td>\n",
       "      <td>32</td>\n",
       "      <td>13</td>\n",
       "      <td>13.500000</td>\n",
       "      <td>0</td>\n",
       "      <td>264.281250</td>\n",
       "      <td>1445</td>\n",
       "      <td>45.156250</td>\n",
       "      <td>8457</td>\n",
       "      <td>264.281250</td>\n",
       "      <td>...</td>\n",
       "      <td>222</td>\n",
       "      <td>26</td>\n",
       "      <td>27</td>\n",
       "      <td>118</td>\n",
       "      <td>0</td>\n",
       "      <td>120</td>\n",
       "      <td>88</td>\n",
       "      <td>0</td>\n",
       "      <td>8</td>\n",
       "      <td>Benign</td>\n",
       "    </tr>\n",
       "    <tr>\n",
       "      <th>4</th>\n",
       "      <td>Benign</td>\n",
       "      <td>42</td>\n",
       "      <td>16</td>\n",
       "      <td>11.452381</td>\n",
       "      <td>0</td>\n",
       "      <td>281.333333</td>\n",
       "      <td>2067</td>\n",
       "      <td>49.214286</td>\n",
       "      <td>11816</td>\n",
       "      <td>281.333333</td>\n",
       "      <td>...</td>\n",
       "      <td>222</td>\n",
       "      <td>26</td>\n",
       "      <td>24</td>\n",
       "      <td>118</td>\n",
       "      <td>0</td>\n",
       "      <td>124</td>\n",
       "      <td>87</td>\n",
       "      <td>0</td>\n",
       "      <td>8</td>\n",
       "      <td>Benign</td>\n",
       "    </tr>\n",
       "  </tbody>\n",
       "</table>\n",
       "<p>5 rows × 57 columns</p>\n",
       "</div>"
      ],
      "text/plain": [
       "  Category  pslist.nproc  pslist.nppid  pslist.avg_threads  \\\n",
       "0   Benign            45            17           10.555556   \n",
       "1   Benign            47            19           11.531915   \n",
       "2   Benign            40            14           14.725000   \n",
       "3   Benign            32            13           13.500000   \n",
       "4   Benign            42            16           11.452381   \n",
       "\n",
       "   pslist.nprocs64bit  pslist.avg_handlers  dlllist.ndlls  \\\n",
       "0                   0           202.844444           1694   \n",
       "1                   0           242.234043           2074   \n",
       "2                   0           288.225000           1932   \n",
       "3                   0           264.281250           1445   \n",
       "4                   0           281.333333           2067   \n",
       "\n",
       "   dlllist.avg_dlls_per_proc  handles.nhandles  handles.avg_handles_per_proc  \\\n",
       "0                  38.500000              9129                    212.302326   \n",
       "1                  44.127660             11385                    242.234043   \n",
       "2                  48.300000             11529                    288.225000   \n",
       "3                  45.156250              8457                    264.281250   \n",
       "4                  49.214286             11816                    281.333333   \n",
       "\n",
       "   ...  svcscan.kernel_drivers  svcscan.fs_drivers  svcscan.process_services  \\\n",
       "0  ...                     221                  26                        24   \n",
       "1  ...                     222                  26                        24   \n",
       "2  ...                     222                  26                        27   \n",
       "3  ...                     222                  26                        27   \n",
       "4  ...                     222                  26                        24   \n",
       "\n",
       "   svcscan.shared_process_services  svcscan.interactive_process_services  \\\n",
       "0                              116                                     0   \n",
       "1                              118                                     0   \n",
       "2                              118                                     0   \n",
       "3                              118                                     0   \n",
       "4                              118                                     0   \n",
       "\n",
       "   svcscan.nactive  callbacks.ncallbacks  callbacks.nanonymous  \\\n",
       "0              121                    87                     0   \n",
       "1              122                    87                     0   \n",
       "2              120                    88                     0   \n",
       "3              120                    88                     0   \n",
       "4              124                    87                     0   \n",
       "\n",
       "   callbacks.ngeneric   Class  \n",
       "0                   8  Benign  \n",
       "1                   8  Benign  \n",
       "2                   8  Benign  \n",
       "3                   8  Benign  \n",
       "4                   8  Benign  \n",
       "\n",
       "[5 rows x 57 columns]"
      ]
     },
     "execution_count": 4,
     "metadata": {},
     "output_type": "execute_result"
    }
   ],
   "source": [
    "dataset.head()"
   ]
  },
  {
   "cell_type": "markdown",
   "id": "3f2a892e",
   "metadata": {},
   "source": [
    "# Process Dataset "
   ]
  },
  {
   "cell_type": "code",
   "execution_count": 5,
   "id": "e5c63caa",
   "metadata": {},
   "outputs": [],
   "source": [
    "df = dataset.drop(['Category'], axis=1)\n",
    "df['Class'] = df['Class'].replace(['Malware', 'Benign'], [1, 0]) "
   ]
  },
  {
   "cell_type": "code",
   "execution_count": 6,
   "id": "1584469a",
   "metadata": {},
   "outputs": [],
   "source": [
    "malware_samples_indices = df[df['Class'] == 1].index\n",
    "num_rows_to_delete = int(0.8 * len(malware_samples_indices))\n",
    "rows_to_delete = np.random.choice(malware_samples_indices, size=num_rows_to_delete, replace=False)\n"
   ]
  },
  {
   "cell_type": "code",
   "execution_count": 7,
   "id": "e85d10d5",
   "metadata": {},
   "outputs": [],
   "source": [
    "df = df.drop(rows_to_delete)"
   ]
  },
  {
   "cell_type": "code",
   "execution_count": 8,
   "id": "daa3737a",
   "metadata": {},
   "outputs": [
    {
     "name": "stdout",
     "output_type": "stream",
     "text": [
      "0    29298\n",
      "1     5860\n",
      "Name: Class, dtype: int64\n"
     ]
    }
   ],
   "source": [
    "print(df['Class'].value_counts())"
   ]
  },
  {
   "cell_type": "code",
   "execution_count": 9,
   "id": "d0eff97a",
   "metadata": {},
   "outputs": [],
   "source": [
    "X = df.iloc[:,:-1].values\n",
    "y = df.iloc[:,-1].values"
   ]
  },
  {
   "cell_type": "code",
   "execution_count": 10,
   "id": "2ac75f10",
   "metadata": {},
   "outputs": [],
   "source": [
    "Xtrain, Xtest, ytrain, ytest = train_test_split(X,y,test_size=0.2, random_state=42)"
   ]
  },
  {
   "cell_type": "markdown",
   "id": "a2f2034b",
   "metadata": {},
   "source": [
    "# Train and Evaluate Models"
   ]
  },
  {
   "cell_type": "code",
   "execution_count": 11,
   "id": "fae74ab5",
   "metadata": {},
   "outputs": [
    {
     "data": {
      "text/html": [
       "<style>#sk-container-id-1 {color: black;background-color: white;}#sk-container-id-1 pre{padding: 0;}#sk-container-id-1 div.sk-toggleable {background-color: white;}#sk-container-id-1 label.sk-toggleable__label {cursor: pointer;display: block;width: 100%;margin-bottom: 0;padding: 0.3em;box-sizing: border-box;text-align: center;}#sk-container-id-1 label.sk-toggleable__label-arrow:before {content: \"▸\";float: left;margin-right: 0.25em;color: #696969;}#sk-container-id-1 label.sk-toggleable__label-arrow:hover:before {color: black;}#sk-container-id-1 div.sk-estimator:hover label.sk-toggleable__label-arrow:before {color: black;}#sk-container-id-1 div.sk-toggleable__content {max-height: 0;max-width: 0;overflow: hidden;text-align: left;background-color: #f0f8ff;}#sk-container-id-1 div.sk-toggleable__content pre {margin: 0.2em;color: black;border-radius: 0.25em;background-color: #f0f8ff;}#sk-container-id-1 input.sk-toggleable__control:checked~div.sk-toggleable__content {max-height: 200px;max-width: 100%;overflow: auto;}#sk-container-id-1 input.sk-toggleable__control:checked~label.sk-toggleable__label-arrow:before {content: \"▾\";}#sk-container-id-1 div.sk-estimator input.sk-toggleable__control:checked~label.sk-toggleable__label {background-color: #d4ebff;}#sk-container-id-1 div.sk-label input.sk-toggleable__control:checked~label.sk-toggleable__label {background-color: #d4ebff;}#sk-container-id-1 input.sk-hidden--visually {border: 0;clip: rect(1px 1px 1px 1px);clip: rect(1px, 1px, 1px, 1px);height: 1px;margin: -1px;overflow: hidden;padding: 0;position: absolute;width: 1px;}#sk-container-id-1 div.sk-estimator {font-family: monospace;background-color: #f0f8ff;border: 1px dotted black;border-radius: 0.25em;box-sizing: border-box;margin-bottom: 0.5em;}#sk-container-id-1 div.sk-estimator:hover {background-color: #d4ebff;}#sk-container-id-1 div.sk-parallel-item::after {content: \"\";width: 100%;border-bottom: 1px solid gray;flex-grow: 1;}#sk-container-id-1 div.sk-label:hover label.sk-toggleable__label {background-color: #d4ebff;}#sk-container-id-1 div.sk-serial::before {content: \"\";position: absolute;border-left: 1px solid gray;box-sizing: border-box;top: 0;bottom: 0;left: 50%;z-index: 0;}#sk-container-id-1 div.sk-serial {display: flex;flex-direction: column;align-items: center;background-color: white;padding-right: 0.2em;padding-left: 0.2em;position: relative;}#sk-container-id-1 div.sk-item {position: relative;z-index: 1;}#sk-container-id-1 div.sk-parallel {display: flex;align-items: stretch;justify-content: center;background-color: white;position: relative;}#sk-container-id-1 div.sk-item::before, #sk-container-id-1 div.sk-parallel-item::before {content: \"\";position: absolute;border-left: 1px solid gray;box-sizing: border-box;top: 0;bottom: 0;left: 50%;z-index: -1;}#sk-container-id-1 div.sk-parallel-item {display: flex;flex-direction: column;z-index: 1;position: relative;background-color: white;}#sk-container-id-1 div.sk-parallel-item:first-child::after {align-self: flex-end;width: 50%;}#sk-container-id-1 div.sk-parallel-item:last-child::after {align-self: flex-start;width: 50%;}#sk-container-id-1 div.sk-parallel-item:only-child::after {width: 0;}#sk-container-id-1 div.sk-dashed-wrapped {border: 1px dashed gray;margin: 0 0.4em 0.5em 0.4em;box-sizing: border-box;padding-bottom: 0.4em;background-color: white;}#sk-container-id-1 div.sk-label label {font-family: monospace;font-weight: bold;display: inline-block;line-height: 1.2em;}#sk-container-id-1 div.sk-label-container {text-align: center;}#sk-container-id-1 div.sk-container {/* jupyter's `normalize.less` sets `[hidden] { display: none; }` but bootstrap.min.css set `[hidden] { display: none !important; }` so we also need the `!important` here to be able to override the default hidden behavior on the sphinx rendered scikit-learn.org. See: https://github.com/scikit-learn/scikit-learn/issues/21755 */display: inline-block !important;position: relative;}#sk-container-id-1 div.sk-text-repr-fallback {display: none;}</style><div id=\"sk-container-id-1\" class=\"sk-top-container\"><div class=\"sk-text-repr-fallback\"><pre>IsolationForest(bootstrap=True, contamination=0.2, max_samples=100,\n",
       "                n_estimators=200)</pre><b>In a Jupyter environment, please rerun this cell to show the HTML representation or trust the notebook. <br />On GitHub, the HTML representation is unable to render, please try loading this page with nbviewer.org.</b></div><div class=\"sk-container\" hidden><div class=\"sk-item\"><div class=\"sk-estimator sk-toggleable\"><input class=\"sk-toggleable__control sk-hidden--visually\" id=\"sk-estimator-id-1\" type=\"checkbox\" checked><label for=\"sk-estimator-id-1\" class=\"sk-toggleable__label sk-toggleable__label-arrow\">IsolationForest</label><div class=\"sk-toggleable__content\"><pre>IsolationForest(bootstrap=True, contamination=0.2, max_samples=100,\n",
       "                n_estimators=200)</pre></div></div></div></div></div>"
      ],
      "text/plain": [
       "IsolationForest(bootstrap=True, contamination=0.2, max_samples=100,\n",
       "                n_estimators=200)"
      ]
     },
     "execution_count": 11,
     "metadata": {},
     "output_type": "execute_result"
    }
   ],
   "source": [
    "## Isolation Forest\n",
    "Isolation_Forest_model=IsolationForest(max_samples= 100, n_estimators= 200, contamination=0.2, bootstrap = True)\n",
    "Isolation_Forest_model.fit(Xtrain)"
   ]
  },
  {
   "cell_type": "code",
   "execution_count": 12,
   "id": "80270383",
   "metadata": {},
   "outputs": [
    {
     "name": "stdout",
     "output_type": "stream",
     "text": [
      "[ 1  1  1 ...  1  1 -1]\n"
     ]
    }
   ],
   "source": [
    "predictions = Isolation_Forest_model.predict(Xtest)\n",
    "print(predictions)"
   ]
  },
  {
   "cell_type": "code",
   "execution_count": 13,
   "id": "e689c113",
   "metadata": {},
   "outputs": [
    {
     "name": "stdout",
     "output_type": "stream",
     "text": [
      " 1    5691\n",
      "-1    1341\n",
      "dtype: int64\n"
     ]
    }
   ],
   "source": [
    "print(pd.value_counts(predictions))"
   ]
  },
  {
   "cell_type": "code",
   "execution_count": 14,
   "id": "6dc5bdc7",
   "metadata": {},
   "outputs": [],
   "source": [
    "predictions[predictions== 1] = 0\n",
    "predictions[predictions== -1] = 1"
   ]
  },
  {
   "cell_type": "code",
   "execution_count": 15,
   "id": "9aa51522",
   "metadata": {},
   "outputs": [
    {
     "name": "stdout",
     "output_type": "stream",
     "text": [
      "0    5691\n",
      "1    1341\n",
      "dtype: int64\n"
     ]
    }
   ],
   "source": [
    "print(pd.value_counts(predictions))"
   ]
  },
  {
   "cell_type": "code",
   "execution_count": 16,
   "id": "6d905fb4",
   "metadata": {},
   "outputs": [
    {
     "name": "stdout",
     "output_type": "stream",
     "text": [
      "              precision    recall  f1-score   support\n",
      "\n",
      "           0       0.83      0.86      0.84      5691\n",
      "           1       0.31      0.27      0.29      1341\n",
      "\n",
      "    accuracy                           0.74      7032\n",
      "   macro avg       0.57      0.56      0.56      7032\n",
      "weighted avg       0.73      0.74      0.74      7032\n",
      "\n"
     ]
    }
   ],
   "source": [
    "Isolation_forest_classification_report = classification_report(predictions, ytest)\n",
    "print(Isolation_forest_classification_report)"
   ]
  },
  {
   "cell_type": "code",
   "execution_count": 17,
   "id": "953eedfa",
   "metadata": {},
   "outputs": [],
   "source": [
    "cm_isolation_forest = confusion_matrix(predictions, ytest)"
   ]
  },
  {
   "cell_type": "code",
   "execution_count": 19,
   "id": "c91fa505",
   "metadata": {},
   "outputs": [
    {
     "name": "stdout",
     "output_type": "stream",
     "text": [
      "[[4880  811]\n",
      " [ 983  358]]\n"
     ]
    }
   ],
   "source": [
    "print(cm_isolation_forest)"
   ]
  },
  {
   "cell_type": "code",
   "execution_count": 21,
   "id": "57828b11",
   "metadata": {},
   "outputs": [
    {
     "data": {
      "text/plain": [
       "<Axes: >"
      ]
     },
     "execution_count": 21,
     "metadata": {},
     "output_type": "execute_result"
    },
    {
     "data": {
      "image/png": "[encoded data removed]",
      "text/plain": [
       "<Figure size 640x480 with 2 Axes>"
      ]
     },
     "metadata": {},
     "output_type": "display_data"
    }
   ],
   "source": [
    "import seaborn as sns\n",
    "sns.heatmap(cm_isolation_forest, fmt='2', annot=True)"
   ]
  },
  {
   "cell_type": "code",
   "execution_count": 23,
   "id": "eddbdb6e",
   "metadata": {},
   "outputs": [
    {
     "data": {
      "text/html": [
       "<style>#sk-container-id-3 {color: black;background-color: white;}#sk-container-id-3 pre{padding: 0;}#sk-container-id-3 div.sk-toggleable {background-color: white;}#sk-container-id-3 label.sk-toggleable__label {cursor: pointer;display: block;width: 100%;margin-bottom: 0;padding: 0.3em;box-sizing: border-box;text-align: center;}#sk-container-id-3 label.sk-toggleable__label-arrow:before {content: \"▸\";float: left;margin-right: 0.25em;color: #696969;}#sk-container-id-3 label.sk-toggleable__label-arrow:hover:before {color: black;}#sk-container-id-3 div.sk-estimator:hover label.sk-toggleable__label-arrow:before {color: black;}#sk-container-id-3 div.sk-toggleable__content {max-height: 0;max-width: 0;overflow: hidden;text-align: left;background-color: #f0f8ff;}#sk-container-id-3 div.sk-toggleable__content pre {margin: 0.2em;color: black;border-radius: 0.25em;background-color: #f0f8ff;}#sk-container-id-3 input.sk-toggleable__control:checked~div.sk-toggleable__content {max-height: 200px;max-width: 100%;overflow: auto;}#sk-container-id-3 input.sk-toggleable__control:checked~label.sk-toggleable__label-arrow:before {content: \"▾\";}#sk-container-id-3 div.sk-estimator input.sk-toggleable__control:checked~label.sk-toggleable__label {background-color: #d4ebff;}#sk-container-id-3 div.sk-label input.sk-toggleable__control:checked~label.sk-toggleable__label {background-color: #d4ebff;}#sk-container-id-3 input.sk-hidden--visually {border: 0;clip: rect(1px 1px 1px 1px);clip: rect(1px, 1px, 1px, 1px);height: 1px;margin: -1px;overflow: hidden;padding: 0;position: absolute;width: 1px;}#sk-container-id-3 div.sk-estimator {font-family: monospace;background-color: #f0f8ff;border: 1px dotted black;border-radius: 0.25em;box-sizing: border-box;margin-bottom: 0.5em;}#sk-container-id-3 div.sk-estimator:hover {background-color: #d4ebff;}#sk-container-id-3 div.sk-parallel-item::after {content: \"\";width: 100%;border-bottom: 1px solid gray;flex-grow: 1;}#sk-container-id-3 div.sk-label:hover label.sk-toggleable__label {background-color: #d4ebff;}#sk-container-id-3 div.sk-serial::before {content: \"\";position: absolute;border-left: 1px solid gray;box-sizing: border-box;top: 0;bottom: 0;left: 50%;z-index: 0;}#sk-container-id-3 div.sk-serial {display: flex;flex-direction: column;align-items: center;background-color: white;padding-right: 0.2em;padding-left: 0.2em;position: relative;}#sk-container-id-3 div.sk-item {position: relative;z-index: 1;}#sk-container-id-3 div.sk-parallel {display: flex;align-items: stretch;justify-content: center;background-color: white;position: relative;}#sk-container-id-3 div.sk-item::before, #sk-container-id-3 div.sk-parallel-item::before {content: \"\";position: absolute;border-left: 1px solid gray;box-sizing: border-box;top: 0;bottom: 0;left: 50%;z-index: -1;}#sk-container-id-3 div.sk-parallel-item {display: flex;flex-direction: column;z-index: 1;position: relative;background-color: white;}#sk-container-id-3 div.sk-parallel-item:first-child::after {align-self: flex-end;width: 50%;}#sk-container-id-3 div.sk-parallel-item:last-child::after {align-self: flex-start;width: 50%;}#sk-container-id-3 div.sk-parallel-item:only-child::after {width: 0;}#sk-container-id-3 div.sk-dashed-wrapped {border: 1px dashed gray;margin: 0 0.4em 0.5em 0.4em;box-sizing: border-box;padding-bottom: 0.4em;background-color: white;}#sk-container-id-3 div.sk-label label {font-family: monospace;font-weight: bold;display: inline-block;line-height: 1.2em;}#sk-container-id-3 div.sk-label-container {text-align: center;}#sk-container-id-3 div.sk-container {/* jupyter's `normalize.less` sets `[hidden] { display: none; }` but bootstrap.min.css set `[hidden] { display: none !important; }` so we also need the `!important` here to be able to override the default hidden behavior on the sphinx rendered scikit-learn.org. See: https://github.com/scikit-learn/scikit-learn/issues/21755 */display: inline-block !important;position: relative;}#sk-container-id-3 div.sk-text-repr-fallback {display: none;}</style><div id=\"sk-container-id-3\" class=\"sk-top-container\"><div class=\"sk-text-repr-fallback\"><pre>LocalOutlierFactor(contamination=0.2, n_neighbors=100, novelty=True)</pre><b>In a Jupyter environment, please rerun this cell to show the HTML representation or trust the notebook. <br />On GitHub, the HTML representation is unable to render, please try loading this page with nbviewer.org.</b></div><div class=\"sk-container\" hidden><div class=\"sk-item\"><div class=\"sk-estimator sk-toggleable\"><input class=\"sk-toggleable__control sk-hidden--visually\" id=\"sk-estimator-id-3\" type=\"checkbox\" checked><label for=\"sk-estimator-id-3\" class=\"sk-toggleable__label sk-toggleable__label-arrow\">LocalOutlierFactor</label><div class=\"sk-toggleable__content\"><pre>LocalOutlierFactor(contamination=0.2, n_neighbors=100, novelty=True)</pre></div></div></div></div></div>"
      ],
      "text/plain": [
       "LocalOutlierFactor(contamination=0.2, n_neighbors=100, novelty=True)"
      ]
     },
     "execution_count": 23,
     "metadata": {},
     "output_type": "execute_result"
    }
   ],
   "source": [
    "## local Outlier Factor \n",
    "Local_outlier_factor = LocalOutlierFactor(n_neighbors = 100, algorithm='auto', contamination=0.2, novelty=True)\n",
    "Local_outlier_factor.fit(Xtrain)"
   ]
  },
  {
   "cell_type": "code",
   "execution_count": 24,
   "id": "cc9242fc",
   "metadata": {},
   "outputs": [],
   "source": [
    "LOF_predictions = Local_outlier_factor.predict(Xtest)"
   ]
  },
  {
   "cell_type": "code",
   "execution_count": 25,
   "id": "efc41679",
   "metadata": {},
   "outputs": [
    {
     "name": "stdout",
     "output_type": "stream",
     "text": [
      "0    5622\n",
      "1    1410\n",
      "dtype: int64\n"
     ]
    }
   ],
   "source": [
    "LOF_predictions[LOF_predictions== 1] = 0\n",
    "LOF_predictions[LOF_predictions== -1] = 1\n",
    "\n",
    "print(pd.value_counts(LOF_predictions))"
   ]
  },
  {
   "cell_type": "code",
   "execution_count": 26,
   "id": "e685d672",
   "metadata": {},
   "outputs": [
    {
     "name": "stdout",
     "output_type": "stream",
     "text": [
      "              precision    recall  f1-score   support\n",
      "\n",
      "           0       0.80      0.83      0.81      5622\n",
      "           1       0.18      0.15      0.16      1410\n",
      "\n",
      "    accuracy                           0.69      7032\n",
      "   macro avg       0.49      0.49      0.49      7032\n",
      "weighted avg       0.67      0.69      0.68      7032\n",
      "\n"
     ]
    }
   ],
   "source": [
    "LOF_classification_report = classification_report(LOF_predictions, ytest)\n",
    "print(LOF_classification_report)"
   ]
  },
  {
   "cell_type": "code",
   "execution_count": 28,
   "id": "7f17526b",
   "metadata": {},
   "outputs": [
    {
     "data": {
      "text/plain": [
       "<Axes: >"
      ]
     },
     "execution_count": 28,
     "metadata": {},
     "output_type": "execute_result"
    },
    {
     "data": {
      "image/png": "[encoded data removed]",
      "text/plain": [
       "<Figure size 640x480 with 2 Axes>"
      ]
     },
     "metadata": {},
     "output_type": "display_data"
    }
   ],
   "source": [
    "confusion_matrix_LOF = confusion_matrix(LOF_predictions, ytest)\n",
    "sns.heatmap(confusion_matrix_LOF, fmt='2', annot=True)"
   ]
  },
  {
   "cell_type": "code",
   "execution_count": 38,
   "id": "91f395a5",
   "metadata": {},
   "outputs": [
    {
     "data": {
      "text/html": [
       "<style>#sk-container-id-5 {color: black;background-color: white;}#sk-container-id-5 pre{padding: 0;}#sk-container-id-5 div.sk-toggleable {background-color: white;}#sk-container-id-5 label.sk-toggleable__label {cursor: pointer;display: block;width: 100%;margin-bottom: 0;padding: 0.3em;box-sizing: border-box;text-align: center;}#sk-container-id-5 label.sk-toggleable__label-arrow:before {content: \"▸\";float: left;margin-right: 0.25em;color: #696969;}#sk-container-id-5 label.sk-toggleable__label-arrow:hover:before {color: black;}#sk-container-id-5 div.sk-estimator:hover label.sk-toggleable__label-arrow:before {color: black;}#sk-container-id-5 div.sk-toggleable__content {max-height: 0;max-width: 0;overflow: hidden;text-align: left;background-color: #f0f8ff;}#sk-container-id-5 div.sk-toggleable__content pre {margin: 0.2em;color: black;border-radius: 0.25em;background-color: #f0f8ff;}#sk-container-id-5 input.sk-toggleable__control:checked~div.sk-toggleable__content {max-height: 200px;max-width: 100%;overflow: auto;}#sk-container-id-5 input.sk-toggleable__control:checked~label.sk-toggleable__label-arrow:before {content: \"▾\";}#sk-container-id-5 div.sk-estimator input.sk-toggleable__control:checked~label.sk-toggleable__label {background-color: #d4ebff;}#sk-container-id-5 div.sk-label input.sk-toggleable__control:checked~label.sk-toggleable__label {background-color: #d4ebff;}#sk-container-id-5 input.sk-hidden--visually {border: 0;clip: rect(1px 1px 1px 1px);clip: rect(1px, 1px, 1px, 1px);height: 1px;margin: -1px;overflow: hidden;padding: 0;position: absolute;width: 1px;}#sk-container-id-5 div.sk-estimator {font-family: monospace;background-color: #f0f8ff;border: 1px dotted black;border-radius: 0.25em;box-sizing: border-box;margin-bottom: 0.5em;}#sk-container-id-5 div.sk-estimator:hover {background-color: #d4ebff;}#sk-container-id-5 div.sk-parallel-item::after {content: \"\";width: 100%;border-bottom: 1px solid gray;flex-grow: 1;}#sk-container-id-5 div.sk-label:hover label.sk-toggleable__label {background-color: #d4ebff;}#sk-container-id-5 div.sk-serial::before {content: \"\";position: absolute;border-left: 1px solid gray;box-sizing: border-box;top: 0;bottom: 0;left: 50%;z-index: 0;}#sk-container-id-5 div.sk-serial {display: flex;flex-direction: column;align-items: center;background-color: white;padding-right: 0.2em;padding-left: 0.2em;position: relative;}#sk-container-id-5 div.sk-item {position: relative;z-index: 1;}#sk-container-id-5 div.sk-parallel {display: flex;align-items: stretch;justify-content: center;background-color: white;position: relative;}#sk-container-id-5 div.sk-item::before, #sk-container-id-5 div.sk-parallel-item::before {content: \"\";position: absolute;border-left: 1px solid gray;box-sizing: border-box;top: 0;bottom: 0;left: 50%;z-index: -1;}#sk-container-id-5 div.sk-parallel-item {display: flex;flex-direction: column;z-index: 1;position: relative;background-color: white;}#sk-container-id-5 div.sk-parallel-item:first-child::after {align-self: flex-end;width: 50%;}#sk-container-id-5 div.sk-parallel-item:last-child::after {align-self: flex-start;width: 50%;}#sk-container-id-5 div.sk-parallel-item:only-child::after {width: 0;}#sk-container-id-5 div.sk-dashed-wrapped {border: 1px dashed gray;margin: 0 0.4em 0.5em 0.4em;box-sizing: border-box;padding-bottom: 0.4em;background-color: white;}#sk-container-id-5 div.sk-label label {font-family: monospace;font-weight: bold;display: inline-block;line-height: 1.2em;}#sk-container-id-5 div.sk-label-container {text-align: center;}#sk-container-id-5 div.sk-container {/* jupyter's `normalize.less` sets `[hidden] { display: none; }` but bootstrap.min.css set `[hidden] { display: none !important; }` so we also need the `!important` here to be able to override the default hidden behavior on the sphinx rendered scikit-learn.org. See: https://github.com/scikit-learn/scikit-learn/issues/21755 */display: inline-block !important;position: relative;}#sk-container-id-5 div.sk-text-repr-fallback {display: none;}</style><div id=\"sk-container-id-5\" class=\"sk-top-container\"><div class=\"sk-text-repr-fallback\"><pre>OneClassSVM()</pre><b>In a Jupyter environment, please rerun this cell to show the HTML representation or trust the notebook. <br />On GitHub, the HTML representation is unable to render, please try loading this page with nbviewer.org.</b></div><div class=\"sk-container\" hidden><div class=\"sk-item\"><div class=\"sk-estimator sk-toggleable\"><input class=\"sk-toggleable__control sk-hidden--visually\" id=\"sk-estimator-id-5\" type=\"checkbox\" checked><label for=\"sk-estimator-id-5\" class=\"sk-toggleable__label sk-toggleable__label-arrow\">OneClassSVM</label><div class=\"sk-toggleable__content\"><pre>OneClassSVM()</pre></div></div></div></div></div>"
      ],
      "text/plain": [
       "OneClassSVM()"
      ]
     },
     "execution_count": 38,
     "metadata": {},
     "output_type": "execute_result"
    }
   ],
   "source": [
    "## One Class SVM \n",
    "## train and test\n",
    "one_class_svm = OneClassSVM()\n",
    "one_class_svm.fit(Xtrain)"
   ]
  },
  {
   "cell_type": "code",
   "execution_count": 30,
   "id": "5f0b26ed",
   "metadata": {},
   "outputs": [],
   "source": [
    "one_class_svm_predictions=one_class_svm.predict(Xtest)"
   ]
  },
  {
   "cell_type": "code",
   "execution_count": 31,
   "id": "272fa2f0",
   "metadata": {},
   "outputs": [
    {
     "name": "stdout",
     "output_type": "stream",
     "text": [
      "0    3579\n",
      "1    3453\n",
      "dtype: int64\n"
     ]
    }
   ],
   "source": [
    "one_class_svm_predictions[one_class_svm_predictions== 1] = 0\n",
    "one_class_svm_predictions[one_class_svm_predictions== -1] = 1\n",
    "\n",
    "print(pd.value_counts(one_class_svm_predictions))"
   ]
  },
  {
   "cell_type": "code",
   "execution_count": 32,
   "id": "f6cfc9d9",
   "metadata": {},
   "outputs": [
    {
     "name": "stdout",
     "output_type": "stream",
     "text": [
      "              precision    recall  f1-score   support\n",
      "\n",
      "           0       0.61      1.00      0.76      3579\n",
      "           1       1.00      0.34      0.50      3453\n",
      "\n",
      "    accuracy                           0.67      7032\n",
      "   macro avg       0.80      0.67      0.63      7032\n",
      "weighted avg       0.80      0.67      0.63      7032\n",
      "\n"
     ]
    }
   ],
   "source": [
    "SVM_classification_report = classification_report(one_class_svm_predictions, ytest)\n",
    "print(SVM_classification_report)"
   ]
  },
  {
   "cell_type": "code",
   "execution_count": 35,
   "id": "c1f622cd",
   "metadata": {},
   "outputs": [
    {
     "data": {
      "text/plain": [
       "<Axes: >"
      ]
     },
     "execution_count": 35,
     "metadata": {},
     "output_type": "execute_result"
    },
    {
     "data": {
      "image/png": "[encoded data removed]",
      "text/plain": [
       "<Figure size 640x480 with 2 Axes>"
      ]
     },
     "metadata": {},
     "output_type": "display_data"
    }
   ],
   "source": [
    "SVM_confusion_matrix = confusion_matrix(one_class_svm_predictions, ytest)\n",
    "sns.heatmap(SVM_confusion_matrix, fmt='2', annot=True)"
   ]
  },
  {
   "cell_type": "code",
   "execution_count": null,
   "id": "a2b4ff79",
   "metadata": {},
   "outputs": [],
   "source": []
  }
 ],
 "metadata": {
  "kernelspec": {
   "display_name": "Python 3 (ipykernel)",
   "language": "python",
   "name": "python3"
  },
  "language_info": {
   "codemirror_mode": {
    "name": "ipython",
    "version": 3
   },
   "file_extension": ".py",
   "mimetype": "text/x-python",
   "name": "python",
   "nbconvert_exporter": "python",
   "pygments_lexer": "ipython3",
   "version": "3.10.9"
  }
 },
 "nbformat": 4,
 "nbformat_minor": 5
}
